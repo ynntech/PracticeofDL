{
 "cells": [
  {
   "cell_type": "code",
   "execution_count": 1,
   "metadata": {},
   "outputs": [
    {
     "name": "stdout",
     "output_type": "stream",
     "text": [
      "weight >> [1.76405235 0.40015721 0.97873798]\n"
     ]
    }
   ],
   "source": [
    "import numpy as np\n",
    "np.random.seed(0)\n",
    "\n",
    "xs = np.array(((0,0), (0,1), (1,0), (1,1)), dtype=np.float32)\n",
    "ts = np.array(((-1), (-1), (-1), (1)), dtype=np.float32)\n",
    "\n",
    "#学習率 0~1の範囲を取る。\n",
    "lr = 0.1\n",
    "\n",
    "w = np.random.normal(0., 1, (3))\n",
    "print (\"weight >>\",w)"
   ]
  },
  {
   "cell_type": "code",
   "execution_count": 2,
   "metadata": {},
   "outputs": [],
   "source": [
    "# add bias\n",
    "_xs = np.hstack([xs, [[1] for _ in range(4)]])"
   ]
  },
  {
   "cell_type": "code",
   "execution_count": 3,
   "metadata": {},
   "outputs": [
    {
     "name": "stdout",
     "output_type": "stream",
     "text": [
      "iteration: 1 y>> [0.97873798 1.37889519 2.74279033 3.14294754]\n",
      "iteration: 2 y>> [0.67873798 0.97889519 2.34279033 2.64294754]\n",
      "iteration: 3 y>> [0.37873798 0.57889519 1.94279033 2.14294754]\n",
      "iteration: 4 y>> [0.07873798 0.17889519 1.54279033 1.64294754]\n",
      "iteration: 5 y>> [-0.22126202 -0.22110481  1.14279033  1.14294754]\n",
      "iteration: 6 y>> [-0.32126202 -0.32110481  0.94279033  0.94294754]\n",
      "iteration: 7 y>> [-0.42126202 -0.42110481  0.74279033  0.74294754]\n",
      "iteration: 8 y>> [-0.52126202 -0.52110481  0.54279033  0.54294754]\n",
      "iteration: 9 y>> [-0.62126202 -0.62110481  0.34279033  0.34294754]\n",
      "iteration: 10 y>> [-0.72126202 -0.72110481  0.14279033  0.14294754]\n",
      "iteration: 11 y>> [-0.82126202 -0.82110481 -0.05720967 -0.05705246]\n",
      "iteration: 12 y>> [-0.72126202 -0.62110481  0.14279033  0.24294754]\n",
      "iteration: 13 y>> [-0.82126202 -0.72110481 -0.05720967  0.04294754]\n",
      "training finished!\n",
      "weight >> [ 0.76405235  0.10015721 -0.82126202]\n"
     ]
    }
   ],
   "source": [
    "#iteration\n",
    "ite = 0;\n",
    "while True :\n",
    "    ite+=1;\n",
    "    # feed forward\n",
    "    ys = np.dot (_xs, w)\n",
    "    \n",
    "    print (\"iteration:\", ite, \"y>>\", ys)\n",
    "    \n",
    "    #update parameters\n",
    "    if len(np.where(ys * ts < 0)[0]) < 1:\n",
    "        break\n",
    "    _ys = ys.copy()\n",
    "    _ts  = ts.copy()\n",
    "    \n",
    "    _ys [ys * ts >= 0] = 0\n",
    "    _ts [ts * ys >= 0] = 0\n",
    "    En = np.dot(_ts, _xs)\n",
    "    \n",
    "    w += lr * En\n",
    "print(\"training finished!\")\n",
    "print(\"weight >>\", w)\n"
   ]
  },
  {
   "cell_type": "code",
   "execution_count": 8,
   "metadata": {},
   "outputs": [
    {
     "name": "stdout",
     "output_type": "stream",
     "text": [
      "in >> [0. 0.] , out >> -0.8212620158942608\n",
      "in >> [0. 1.] , out >> -0.7211048075270377\n",
      "in >> [1. 0.] , out >> -0.05720966992659737\n",
      "in >> [1. 1.] , out >> 0.04294753844062582\n"
     ]
    }
   ],
   "source": [
    "# test\n",
    "ys = np.array(list(map(lambda x: np.dot(w, x), _xs)))\n",
    "\n",
    "for i in range(4):\n",
    "    ys = np.dot(w, _xs[i])\n",
    "    print(\"in >>\", xs[i], \", out >>\", ys) "
   ]
  },
  {
   "cell_type": "code",
   "execution_count": 7,
   "metadata": {},
   "outputs": [
    {
     "name": "stdout",
     "output_type": "stream",
     "text": [
      "0.04294753844062582\n"
     ]
    }
   ],
   "source": []
  },
  {
   "cell_type": "code",
   "execution_count": null,
   "metadata": {},
   "outputs": [],
   "source": []
  }
 ],
 "metadata": {
  "kernelspec": {
   "display_name": "Python 3",
   "language": "python",
   "name": "python3"
  },
  "language_info": {
   "codemirror_mode": {
    "name": "ipython",
    "version": 3
   },
   "file_extension": ".py",
   "mimetype": "text/x-python",
   "name": "python",
   "nbconvert_exporter": "python",
   "pygments_lexer": "ipython3",
   "version": "3.7.0"
  }
 },
 "nbformat": 4,
 "nbformat_minor": 2
}
