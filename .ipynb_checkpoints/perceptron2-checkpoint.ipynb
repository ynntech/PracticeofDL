{
 "cells": [
  {
   "cell_type": "code",
   "execution_count": 1,
   "metadata": {},
   "outputs": [
    {
     "name": "stdout",
     "output_type": "stream",
     "text": [
      "weight >> [1.76405235 0.40015721 0.97873798]\n"
     ]
    }
   ],
   "source": [
    "import numpy as np\n",
    "np.random.seed(0)\n",
    "\n",
    "xs = np.array(((0,0), (0,1), (1,0), (1,1)), dtype=np.float32)\n",
    "ts = np.array(((-1), (-1), (-1), (1)), dtype=np.float32)\n",
    "\n",
    "#学習率 0~1の範囲を取る。\n",
    "lr = 0.1\n",
    "\n",
    "w = np.random.normal(0., 1, (3))\n",
    "print (\"weight >>\",w)"
   ]
  },
  {
   "cell_type": "code",
   "execution_count": 2,
   "metadata": {},
   "outputs": [],
   "source": [
    "# add bias\n",
    "_xs = np.hstack([xs, [[1] for _ in range(4)]])"
   ]
  },
  {
   "cell_type": "code",
   "execution_count": null,
   "metadata": {},
   "outputs": [],
   "source": [
    "#iteration\n",
    "ite = 0;\n",
    "while True :\n",
    "    ite+=1;\n",
    "    # feed forward\n",
    "    ys = np.dot (_xs, w)\n",
    "    \n",
    "    print (\"iteration:\", ite, \"y>>\", ys)\n",
    "    \n",
    "    #update parameters\n",
    "    if len(np.where(ys * ts < 0)[0]) < 1:\n",
    "        break\n",
    "    "
   ]
  }
 ],
 "metadata": {
  "kernelspec": {
   "display_name": "Python 3",
   "language": "python",
   "name": "python3"
  },
  "language_info": {
   "codemirror_mode": {
    "name": "ipython",
    "version": 3
   },
   "file_extension": ".py",
   "mimetype": "text/x-python",
   "name": "python",
   "nbconvert_exporter": "python",
   "pygments_lexer": "ipython3",
   "version": "3.7.0"
  }
 },
 "nbformat": 4,
 "nbformat_minor": 2
}
